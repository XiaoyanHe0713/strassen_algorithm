{
 "cells": [
  {
   "cell_type": "code",
   "execution_count": 2,
   "metadata": {},
   "outputs": [],
   "source": [
    "import numpy as np\n",
    "from strassen import *\n",
    "from tqdm import tqdm"
   ]
  },
  {
   "cell_type": "code",
   "execution_count": 18,
   "metadata": {},
   "outputs": [],
   "source": [
    "def setup(n):\n",
    "    # Create a random matrix with n x n\n",
    "    A = np.random.randint(0, 10, size=(n, n))\n",
    "    \n",
    "    # Create the inverse of A\n",
    "    B = np.linalg.inv(A)\n",
    "\n",
    "    # Create the identity matrix\n",
    "    I = np.identity(n)\n",
    "\n",
    "    return A, B, I\n",
    "\n",
    "def test(A, B, I):\n",
    "    # Create a strassen object\n",
    "    s = strassen(A, B)\n",
    "    C = s.strassen(A, B)\n",
    "\n",
    "    # Calculate the error between the identity matrix and the product of A and B\n",
    "    error = np.linalg.norm(I - C)\n",
    "    return error"
   ]
  },
  {
   "cell_type": "code",
   "execution_count": 11,
   "metadata": {},
   "outputs": [
    {
     "data": {
      "text/plain": [
       "array([[0.83900862, 0.78398426, 0.37565617, 0.9812237 , 0.45749156,\n",
       "        0.24562784, 0.81841985, 0.9766894 , 0.1894138 , 0.33201344],\n",
       "       [0.93759343, 0.8108892 , 0.95358747, 0.49568392, 0.37520584,\n",
       "        0.89765021, 0.84019311, 0.54876216, 0.50649865, 0.76667131],\n",
       "       [0.43554157, 0.30214955, 0.48017767, 0.10470989, 0.32008758,\n",
       "        0.95210884, 0.43491001, 0.37193837, 0.15422318, 0.95846766],\n",
       "       [0.7110192 , 0.47907003, 0.10274225, 0.32640434, 0.29766119,\n",
       "        0.91996684, 0.95119428, 0.8092693 , 0.49359078, 0.43358914],\n",
       "       [0.82650623, 0.28548731, 0.97600423, 0.23919121, 0.84484222,\n",
       "        0.94987216, 0.84505697, 0.78738701, 0.0747038 , 0.31125203],\n",
       "       [0.90394597, 0.28295154, 0.33797626, 0.68615045, 0.76215291,\n",
       "        0.20291487, 0.31521311, 0.77957128, 0.04567663, 0.72653272],\n",
       "       [0.12382494, 0.14461593, 0.66454535, 0.05602967, 0.26254684,\n",
       "        0.01475586, 0.50395022, 0.06579265, 0.74250758, 0.47591589],\n",
       "       [0.28909029, 0.45784476, 0.11493755, 0.82652126, 0.13254898,\n",
       "        0.62376871, 0.84063721, 0.63326993, 0.70214595, 0.25290903],\n",
       "       [0.81998626, 0.83718735, 0.40247244, 0.21222255, 0.17921731,\n",
       "        0.68498465, 0.90409857, 0.99147352, 0.33545312, 0.38401083],\n",
       "       [0.61670214, 0.32252875, 0.38708687, 0.2856725 , 0.88281792,\n",
       "        0.98194543, 0.54440442, 0.49695786, 0.72939123, 0.54401746]])"
      ]
     },
     "execution_count": 11,
     "metadata": {},
     "output_type": "execute_result"
    }
   ],
   "source": [
    "np.random.random((10,10))"
   ]
  },
  {
   "cell_type": "code",
   "execution_count": 22,
   "metadata": {},
   "outputs": [
    {
     "name": "stderr",
     "output_type": "stream",
     "text": [
      "100%|██████████| 99/99 [6:16:30<00:00, 228.18s/it]  \n"
     ]
    },
    {
     "data": {
      "image/png": "[encoded data removed]",
      "text/plain": [
       "<Figure size 432x288 with 1 Axes>"
      ]
     },
     "metadata": {
      "needs_background": "light"
     },
     "output_type": "display_data"
    }
   ],
   "source": [
    "errors = []\n",
    "for n in tqdm(range(10, 1000, 10)):\n",
    "    A, B, I = setup(n)\n",
    "    error = test(A, B, I)\n",
    "    errors.append(error)\n",
    "\n",
    "import matplotlib.pyplot as plt\n",
    "plt.plot(errors)\n",
    "plt.show()"
   ]
  }
 ],
 "metadata": {
  "kernelspec": {
   "display_name": "Python 3",
   "language": "python",
   "name": "python3"
  },
  "language_info": {
   "codemirror_mode": {
    "name": "ipython",
    "version": 3
   },
   "file_extension": ".py",
   "mimetype": "text/x-python",
   "name": "python",
   "nbconvert_exporter": "python",
   "pygments_lexer": "ipython3",
   "version": "3.11.3"
  },
  "orig_nbformat": 4,
  "vscode": {
   "interpreter": {
    "hash": "aee8b7b246df8f9039afb4144a1f6fd8d2ca17a180786b69acc140d282b71a49"
   }
  }
 },
 "nbformat": 4,
 "nbformat_minor": 2
}
